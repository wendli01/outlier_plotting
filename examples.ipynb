{
 "cells": [
  {
   "cell_type": "markdown",
   "metadata": {},
   "source": [
    "# Plotting Outliers - Examples"
   ]
  },
  {
   "cell_type": "code",
   "execution_count": 1,
   "metadata": {
    "ExecuteTime": {
     "end_time": "2020-01-29T18:42:24.459107Z",
     "start_time": "2020-01-29T18:42:23.327526Z"
    }
   },
   "outputs": [],
   "source": [
    "import numpy as np\n",
    "import seaborn as sns\n",
    "from matplotlib import pyplot as plt\n",
    "import pandas as pd\n",
    "from outlier_plotting.sns import handle_outliers"
   ]
  },
  {
   "cell_type": "markdown",
   "metadata": {},
   "source": [
    "## Test Data"
   ]
  },
  {
   "cell_type": "code",
   "execution_count": 2,
   "metadata": {
    "ExecuteTime": {
     "end_time": "2020-01-29T18:42:24.462789Z",
     "start_time": "2020-01-29T18:42:24.460731Z"
    }
   },
   "outputs": [],
   "source": [
    "np.random.seed(42)"
   ]
  },
  {
   "cell_type": "code",
   "execution_count": 3,
   "metadata": {
    "ExecuteTime": {
     "end_time": "2020-01-29T18:42:24.487385Z",
     "start_time": "2020-01-29T18:42:24.464353Z"
    }
   },
   "outputs": [
    {
     "data": {
      "text/html": [
       "<div>\n",
       "<style scoped>\n",
       "    .dataframe tbody tr th:only-of-type {\n",
       "        vertical-align: middle;\n",
       "    }\n",
       "\n",
       "    .dataframe tbody tr th {\n",
       "        vertical-align: top;\n",
       "    }\n",
       "\n",
       "    .dataframe thead th {\n",
       "        text-align: right;\n",
       "    }\n",
       "</style>\n",
       "<table border=\"1\" class=\"dataframe\">\n",
       "  <thead>\n",
       "    <tr style=\"text-align: right;\">\n",
       "      <th></th>\n",
       "      <th>value</th>\n",
       "      <th>type</th>\n",
       "      <th>size</th>\n",
       "      <th>weight</th>\n",
       "      <th>color</th>\n",
       "    </tr>\n",
       "  </thead>\n",
       "  <tbody>\n",
       "    <tr>\n",
       "      <th>0</th>\n",
       "      <td>-1000.000000</td>\n",
       "      <td>cat</td>\n",
       "      <td>3</td>\n",
       "      <td>20</td>\n",
       "      <td>brown</td>\n",
       "    </tr>\n",
       "    <tr>\n",
       "      <th>1</th>\n",
       "      <td>-100.000000</td>\n",
       "      <td>cat</td>\n",
       "      <td>1</td>\n",
       "      <td>20</td>\n",
       "      <td>red</td>\n",
       "    </tr>\n",
       "    <tr>\n",
       "      <th>2</th>\n",
       "      <td>-10.000000</td>\n",
       "      <td>bass</td>\n",
       "      <td>1</td>\n",
       "      <td>20</td>\n",
       "      <td>red</td>\n",
       "    </tr>\n",
       "    <tr>\n",
       "      <th>3</th>\n",
       "      <td>0.496714</td>\n",
       "      <td>cat</td>\n",
       "      <td>2</td>\n",
       "      <td>20</td>\n",
       "      <td>brown</td>\n",
       "    </tr>\n",
       "    <tr>\n",
       "      <th>4</th>\n",
       "      <td>-0.138264</td>\n",
       "      <td>cat</td>\n",
       "      <td>1</td>\n",
       "      <td>10</td>\n",
       "      <td>brown</td>\n",
       "    </tr>\n",
       "  </tbody>\n",
       "</table>\n",
       "</div>"
      ],
      "text/plain": [
       "         value  type  size  weight  color\n",
       "0 -1000.000000   cat     3      20  brown\n",
       "1  -100.000000   cat     1      20    red\n",
       "2   -10.000000  bass     1      20    red\n",
       "3     0.496714   cat     2      20  brown\n",
       "4    -0.138264   cat     1      10  brown"
      ]
     },
     "execution_count": 3,
     "metadata": {},
     "output_type": "execute_result"
    }
   ],
   "source": [
    "df = pd.DataFrame()\n",
    "\n",
    "df['value'] = np.hstack([-1000, -100, -10, np.random.normal(0, 1, 50), 10, 100, 1000])\n",
    "df['type'] = np.random.choice(['cat', 'dog', 'bass'], len(df))\n",
    "df['size'] = np.random.choice([1, 2, 3], len(df))\n",
    "df['weight'] = np.random.choice([10, 20], len(df))\n",
    "df['color'] = np.random.choice(['red', 'brown'], len(df))\n",
    "\n",
    "df.head()"
   ]
  },
  {
   "cell_type": "markdown",
   "metadata": {},
   "source": [
    "## Functionality"
   ]
  },
  {
   "cell_type": "markdown",
   "metadata": {},
   "source": [
    "`handle_outliers` remove outliers from the plot and show them as text boxes. It can be used with most `seaborn` plotting function that works with long-form data.\n",
    "\n",
    "Please not that only inliers are passed into the plotting function, consequently density estimates, and functionals are only computed on that subset and **not** representative of the whole data.\n",
    "\n",
    "Notable exceptions are:\n",
    "\n",
    "- `countplot`\n",
    "- `lineplot`\n",
    "- `scatterplot`"
   ]
  },
  {
   "cell_type": "code",
   "execution_count": 4,
   "metadata": {
    "ExecuteTime": {
     "end_time": "2020-01-29T18:42:25.134189Z",
     "start_time": "2020-01-29T18:42:24.489390Z"
    },
    "scrolled": false
   },
   "outputs": [
    {
     "data": {
      "image/png": "[encoded data removed]",
      "text/plain": [
       "<Figure size 432x288 with 1 Axes>"
      ]
     },
     "metadata": {
      "needs_background": "light"
     },
     "output_type": "display_data"
    },
    {
     "data": {
      "image/png": "[encoded data removed]",
      "text/plain": [
       "<Figure size 432x288 with 1 Axes>"
      ]
     },
     "metadata": {
      "needs_background": "light"
     },
     "output_type": "display_data"
    }
   ],
   "source": [
    "plt.title('Showing Outliers')\n",
    "sns.boxplot(data=df, y = 'type', x='value')\n",
    "plt.show()\n",
    "\n",
    "plt.title('With Outlier Handling')\n",
    "handle_outliers(data=df, y = 'type', x='value', plotter=sns.boxplot)\n",
    "plt.show()"
   ]
  },
  {
   "cell_type": "markdown",
   "metadata": {},
   "source": [
    "## Different Plotters"
   ]
  },
  {
   "cell_type": "code",
   "execution_count": null,
   "metadata": {
    "ExecuteTime": {
     "start_time": "2020-01-29T18:42:23.360Z"
    },
    "scrolled": false
   },
   "outputs": [
    {
     "data": {
      "image/png": "[encoded data removed]",
      "text/plain": [
       "<Figure size 432x288 with 1 Axes>"
      ]
     },
     "metadata": {
      "needs_background": "light"
     },
     "output_type": "display_data"
    },
    {
     "data": {
      "image/png": "[encoded data removed]",
      "text/plain": [
       "<Figure size 432x288 with 1 Axes>"
      ]
     },
     "metadata": {
      "needs_background": "light"
     },
     "output_type": "display_data"
    }
   ],
   "source": [
    "for plotter in (sns.pointplot, sns.barplot, sns.swarmplot, sns.stripplot, sns.violinplot, sns.boxplot, \n",
    "                sns.boxenplot):\n",
    "    plt.title(plotter.__name__)\n",
    "    handle_outliers(data=df, plotter = plotter, x = 'type', y='value')\n",
    "    plt.show()"
   ]
  },
  {
   "cell_type": "code",
   "execution_count": null,
   "metadata": {
    "ExecuteTime": {
     "start_time": "2020-01-29T18:42:23.368Z"
    }
   },
   "outputs": [],
   "source": [
    "handle_outliers(data=df['value'], plotter=sns.kdeplot);"
   ]
  },
  {
   "cell_type": "markdown",
   "metadata": {},
   "source": [
    "## Data Formats"
   ]
  },
  {
   "cell_type": "code",
   "execution_count": null,
   "metadata": {
    "ExecuteTime": {
     "start_time": "2020-01-29T18:42:23.375Z"
    }
   },
   "outputs": [],
   "source": [
    "handle_outliers(data=df['value'].values)\n",
    "plt.show()\n",
    "\n",
    "handle_outliers(x=df['value'])\n",
    "plt.show()\n",
    "\n",
    "handle_outliers(y=df.value, x=df.weight);"
   ]
  },
  {
   "cell_type": "markdown",
   "metadata": {},
   "source": [
    "## Outlier Detection"
   ]
  },
  {
   "cell_type": "markdown",
   "metadata": {},
   "source": [
    "A multiple of the IQR is used to detect outliers."
   ]
  },
  {
   "cell_type": "code",
   "execution_count": null,
   "metadata": {
    "ExecuteTime": {
     "start_time": "2020-01-29T18:42:23.383Z"
    }
   },
   "outputs": [],
   "source": [
    "plt.title('Normal inlier_range')\n",
    "handle_outliers(data=df, y = 'type', x='value')\n",
    "plt.show()\n",
    "\n",
    "plt.title('High inlier_range')\n",
    "handle_outliers(data=df, y = 'type', x='value', inlier_range = 10)\n",
    "plt.show()\n",
    "\n",
    "plt.title('Low inlier_range')\n",
    "handle_outliers(data=df, y = 'type', x='value', inlier_range = 0);"
   ]
  },
  {
   "cell_type": "markdown",
   "metadata": {},
   "source": [
    "## Padding and Margin"
   ]
  },
  {
   "cell_type": "markdown",
   "metadata": {},
   "source": [
    "Due to the impossibility of determining the size of `matplotlib` text, liberal margins have to be added.\n",
    "\n",
    "Some padding (5% by default) is added between the plot and text."
   ]
  },
  {
   "cell_type": "code",
   "execution_count": null,
   "metadata": {
    "ExecuteTime": {
     "start_time": "2020-01-29T18:42:23.392Z"
    },
    "scrolled": false
   },
   "outputs": [],
   "source": [
    "plt.title('Normal margin and padding')\n",
    "handle_outliers(data=df, y = 'type', x='value')\n",
    "plt.show()\n",
    "\n",
    "plt.title('No margin')\n",
    "handle_outliers(data=df, y = 'type', x='value', margin = 0)\n",
    "plt.show()\n",
    "\n",
    "plt.title('High margin')\n",
    "handle_outliers(data=df, y = 'type', x='value', margin = .5)\n",
    "plt.show()\n",
    "\n",
    "plt.title('No padding')\n",
    "handle_outliers(data=df, y = 'type', x='value', padding = 0)\n",
    "plt.show()\n",
    "\n",
    "plt.title('High padding')\n",
    "handle_outliers(data=df, y = 'type', x='value', padding = .5)\n",
    "plt.show()"
   ]
  },
  {
   "cell_type": "markdown",
   "metadata": {},
   "source": [
    "## Hue"
   ]
  },
  {
   "cell_type": "markdown",
   "metadata": {},
   "source": [
    "Due to the aforementioned impossibility of determining the size of `matplotlib` text, it is currently not possible to appropriately plot data with `hue`s.\n",
    "\n",
    "Rendering text in different colors (which would be the most elegant solution) cannot be done without creating multiple `text`s, which would collide since there extents are unknown.\n"
   ]
  },
  {
   "cell_type": "code",
   "execution_count": null,
   "metadata": {
    "ExecuteTime": {
     "start_time": "2020-01-29T18:42:23.400Z"
    }
   },
   "outputs": [],
   "source": [
    "handle_outliers(data=df, plotter = sns.violinplot, x = 'type', y='value', hue='size')\n",
    "plt.show()\n",
    "handle_outliers(data=df, plotter = sns.violinplot, hue = 'type', y='value', x='size', inlier_range=-.2, margin=.7)\n",
    "plt.legend(loc='upper center');"
   ]
  },
  {
   "cell_type": "markdown",
   "metadata": {},
   "source": [
    "## catplot"
   ]
  },
  {
   "cell_type": "code",
   "execution_count": null,
   "metadata": {
    "ExecuteTime": {
     "start_time": "2020-01-29T18:42:23.409Z"
    },
    "scrolled": false
   },
   "outputs": [],
   "source": [
    "handle_outliers(data=df, x='type', y='value', hue='size', col='weight', row='color', plotter=sns.catplot)\n",
    "plt.show()\n",
    "\n",
    "handle_outliers(data=df, x='type', y='value', hue='size', col='weight', plotter=sns.catplot,\n",
    "               kind='violin')\n",
    "plt.show()\n",
    "\n",
    "handle_outliers(data=df, x='weight', y='value', hue='size', row='type', plotter=sns.catplot, kind='box')\n",
    "plt.show()\n",
    "\n"
   ]
  }
 ],
 "metadata": {
  "kernelspec": {
   "display_name": "wemb",
   "language": "python",
   "name": "wemb"
  },
  "language_info": {
   "codemirror_mode": {
    "name": "ipython",
    "version": 3
   },
   "file_extension": ".py",
   "mimetype": "text/x-python",
   "name": "python",
   "nbconvert_exporter": "python",
   "pygments_lexer": "ipython3",
   "version": "3.7.3"
  },
  "toc": {
   "base_numbering": 1,
   "nav_menu": {},
   "number_sections": true,
   "sideBar": true,
   "skip_h1_title": false,
   "title_cell": "Table of Contents",
   "title_sidebar": "Contents",
   "toc_cell": false,
   "toc_position": {},
   "toc_section_display": true,
   "toc_window_display": false
  },
  "varInspector": {
   "cols": {
    "lenName": 16,
    "lenType": 16,
    "lenVar": 40
   },
   "kernels_config": {
    "python": {
     "delete_cmd_postfix": "",
     "delete_cmd_prefix": "del ",
     "library": "var_list.py",
     "varRefreshCmd": "print(var_dic_list())"
    },
    "r": {
     "delete_cmd_postfix": ") ",
     "delete_cmd_prefix": "rm(",
     "library": "var_list.r",
     "varRefreshCmd": "cat(var_dic_list()) "
    }
   },
   "types_to_exclude": [
    "module",
    "function",
    "builtin_function_or_method",
    "instance",
    "_Feature"
   ],
   "window_display": false
  }
 },
 "nbformat": 4,
 "nbformat_minor": 2
}
